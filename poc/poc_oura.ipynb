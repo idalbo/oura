{
 "cells": [
  {
   "cell_type": "code",
   "execution_count": 2,
   "metadata": {},
   "outputs": [],
   "source": [
    "import requests \n",
    "from dotenv import load_dotenv\n",
    "import os\n",
    "import pandas as pd"
   ]
  },
  {
   "cell_type": "code",
   "execution_count": 3,
   "metadata": {},
   "outputs": [],
   "source": [
    "load_dotenv()\n",
    "\n",
    "token = os.environ.get(\"TOKEN\")"
   ]
  },
  {
   "cell_type": "code",
   "execution_count": 24,
   "metadata": {},
   "outputs": [],
   "source": [
    "# get daily activity\n",
    "url = 'https://api.ouraring.com/v2/usercollection/daily_activity' \n",
    "params={ \n",
    "    'start_date': '2022-04-01', \n",
    "    'end_date': '2022-04-02' \n",
    "}\n",
    "headers = { \n",
    "    'Authorization': f'Bearer {token}' \n",
    "}\n",
    "response = requests.request('GET', url, headers=headers, params=params) \n",
    "\n",
    "# store into dfs\n",
    "daily_activity_df = pd.DataFrame(response.json()['data'])\n",
    "daily_activity_df.drop(columns=['contributors', 'met'], inplace=True)\n",
    "activity_contributors_df = pd.DataFrame(response.json()['data'][0]['contributors'], index=[0])\n",
    "activity_contributors_df['day'] = response.json()['data'][0]['day']\n",
    "activity_met_df = pd.DataFrame(response.json()['data'][0]['met']['items'])\n",
    "activity_met_df['day'] = response.json()['data'][0]['day']"
   ]
  }
 ],
 "metadata": {
  "interpreter": {
   "hash": "ab85436769c5e1dd45d2e50988576ca2a1886d28ad8bd9608e3eca0f2272e547"
  },
  "kernelspec": {
   "display_name": "Python 3.10.4 64-bit",
   "language": "python",
   "name": "python3"
  },
  "language_info": {
   "codemirror_mode": {
    "name": "ipython",
    "version": 3
   },
   "file_extension": ".py",
   "mimetype": "text/x-python",
   "name": "python",
   "nbconvert_exporter": "python",
   "pygments_lexer": "ipython3",
   "version": "3.10.4"
  },
  "orig_nbformat": 4
 },
 "nbformat": 4,
 "nbformat_minor": 2
}
